{
 "cells": [
  {
   "cell_type": "code",
   "execution_count": 3,
   "metadata": {},
   "outputs": [
    {
     "name": "stdout",
     "output_type": "stream",
     "text": [
      "-0.24999999999999994\n"
     ]
    }
   ],
   "source": [
    "from textblob import TextBlob\n",
    "text = '''\n",
    "Mark is a bad guy. Who stole over 500k worth of cars and was a huge reason of election fraud in Arizona. He is evil \n",
    "and should not be trusted. \n",
    "'''\n",
    "tb=TextBlob(text)\n",
    "print(tb.sentiment.polarity)"
   ]
  },
  {
   "cell_type": "code",
   "execution_count": 2,
   "metadata": {},
   "outputs": [
    {
     "name": "stdout",
     "output_type": "stream",
     "text": [
      "0.0457864085067475\n"
     ]
    }
   ],
   "source": [
    "from textblob import TextBlob\n",
    "from mediawiki import MediaWiki\n",
    "wikipedia = MediaWiki()\n",
    "\n",
    "text = wikipedia.page('Pizza')\n",
    "content= text.content\n",
    "\n",
    "tb=TextBlob(content)\n",
    "print(tb.sentiment.polarity)\n",
    "#food, it about half at 45. because pizza tastes good, but it also is unhealthy and can cause many health issues"
   ]
  },
  {
   "cell_type": "code",
   "execution_count": 1,
   "metadata": {},
   "outputs": [
    {
     "name": "stdout",
     "output_type": "stream",
     "text": [
      "-0.02157287157287158\n"
     ]
    }
   ],
   "source": [
    "from textblob import TextBlob\n",
    "from mediawiki import MediaWiki\n",
    "wikipedia = MediaWiki()\n",
    "\n",
    "text = wikipedia.page('Bitchute')\n",
    "content= text.content\n",
    "\n",
    "tb=TextBlob(content)\n",
    "print(tb.sentiment.polarity)\n",
    "# very negative because this a far right website that promotes radical views. many sources say that it\n",
    "#\"hosts \"hate-fueled material\""
   ]
  },
  {
   "cell_type": "code",
   "execution_count": 6,
   "metadata": {},
   "outputs": [
    {
     "name": "stdout",
     "output_type": "stream",
     "text": [
      "0.21250000000000002\n"
     ]
    }
   ],
   "source": [
    "from textblob import TextBlob\n",
    "text = '''\n",
    "Andrew was a great person and teamplayer. He never cared about winning and only played for the fun of the game.\n",
    "He is a good role model, however he does semll bad and needs to take more showers..\n",
    "'''\n",
    "tb=TextBlob(text)\n",
    "print(tb.sentiment.polarity)"
   ]
  },
  {
   "cell_type": "code",
   "execution_count": 11,
   "metadata": {},
   "outputs": [
    {
     "name": "stdout",
     "output_type": "stream",
     "text": [
      "0.010041006394217395\n"
     ]
    }
   ],
   "source": [
    "from textblob import TextBlob\n",
    "from mediawiki import MediaWiki\n",
    "wikipedia = MediaWiki()\n",
    "\n",
    "text = wikipedia.page('Sad')\n",
    "content= text.content\n",
    "\n",
    "tb=TextBlob(content)\n",
    "print(tb.sentiment.polarity)\n",
    "#low score because this is obvious"
   ]
  },
  {
   "cell_type": "code",
   "execution_count": 14,
   "metadata": {},
   "outputs": [
    {
     "name": "stdout",
     "output_type": "stream",
     "text": [
      "0.006111521216416311\n"
     ]
    }
   ],
   "source": [
    "from textblob import TextBlob\n",
    "from mediawiki import MediaWiki\n",
    "wikipedia = MediaWiki()\n",
    "\n",
    "text = wikipedia.page('LehmanBrothers')\n",
    "content= text.content\n",
    "\n",
    "tb=TextBlob(content)\n",
    "print(tb.sentiment.polarity)\n",
    "#average score. because the company collapsed: \"too big to fail\", but was also a major company in the 20th century\n",
    "#in the banking sector"
   ]
  },
  {
   "cell_type": "code",
   "execution_count": 15,
   "metadata": {},
   "outputs": [
    {
     "name": "stdout",
     "output_type": "stream",
     "text": [
      "0.12119563692480352\n"
     ]
    }
   ],
   "source": [
    "from textblob import TextBlob\n",
    "from mediawiki import MediaWiki\n",
    "wikipedia = MediaWiki()\n",
    "\n",
    "text = wikipedia.page('Super Size Me')\n",
    "content= text.content\n",
    "\n",
    "tb=TextBlob(content)\n",
    "print(tb.sentiment.polarity)\n",
    "\n",
    "#low score because this documentary by spurlock uses a lot of words that attack the fast food indusry\n",
    "#and the reviews section was controversial on how these 30 tests were done. "
   ]
  },
  {
   "cell_type": "code",
   "execution_count": null,
   "metadata": {},
   "outputs": [],
   "source": []
  }
 ],
 "metadata": {
  "kernelspec": {
   "display_name": "Python 3",
   "language": "python",
   "name": "python3"
  },
  "language_info": {
   "codemirror_mode": {
    "name": "ipython",
    "version": 3
   },
   "file_extension": ".py",
   "mimetype": "text/x-python",
   "name": "python",
   "nbconvert_exporter": "python",
   "pygments_lexer": "ipython3",
   "version": "3.8.3"
  }
 },
 "nbformat": 4,
 "nbformat_minor": 4
}
